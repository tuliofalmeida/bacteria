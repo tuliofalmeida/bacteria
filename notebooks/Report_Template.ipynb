{
  "nbformat": 4,
  "nbformat_minor": 0,
  "metadata": {
    "colab": {
      "provenance": [],
      "collapsed_sections": [
        "Z36Q8-jqZNS8",
        "9DEnAbQmgHQ6",
        "-OykxjPERDmC",
        "GY6CBRsIRI4b",
        "0OQOGgZAiBZp",
        "4K9eAHXQsX5A"
      ],
      "mount_file_id": "1RVc4N5qXbui3Xj-eyzs64Eme-gfhH3Zq",
      "authorship_tag": "ABX9TyNm0No3x99RYejwsPUrq/Zq",
      "include_colab_link": true
    },
    "kernelspec": {
      "name": "python3",
      "display_name": "Python 3"
    },
    "language_info": {
      "name": "python"
    }
  },
  "cells": [
    {
      "cell_type": "markdown",
      "metadata": {
        "id": "view-in-github",
        "colab_type": "text"
      },
      "source": [
        "<a href=\"https://colab.research.google.com/github/tuliofalmeida/bacteria/blob/main/notebooks/Report_Template.ipynb\" target=\"_parent\"><img src=\"https://colab.research.google.com/assets/colab-badge.svg\" alt=\"Open In Colab\"/></a>"
      ]
    },
    {
      "cell_type": "markdown",
      "source": [
        "# Report Template\n",
        "\n",
        "This is an analysis template using the Bacteria library.\n",
        "\n",
        "Library documentation: [Bacteria GitHub](https://github.com/tuliofalmeida/bacteria)\n",
        "Library documentation: [Bacteria docs](https://bacteria.readthedocs.io)"
      ],
      "metadata": {
        "id": "EnJdLMBVYEz2"
      }
    },
    {
      "cell_type": "markdown",
      "source": [
        "## Imports"
      ],
      "metadata": {
        "id": "p1RClqRRXsQx"
      }
    },
    {
      "cell_type": "code",
      "execution_count": null,
      "metadata": {
        "colab": {
          "base_uri": "https://localhost:8080/"
        },
        "id": "9UIA4AObfiqw",
        "outputId": "58498c6a-f8c7-435e-9ff3-04b3b678f954",
        "cellView": "form"
      },
      "outputs": [
        {
          "output_type": "stream",
          "name": "stdout",
          "text": [
            "Bacteria successfully installed!\n"
          ]
        }
      ],
      "source": [
        "#@title Pip install Bacteria\n",
        "!pip install bacteria\n",
        "!mkdir plots\n",
        "from IPython.display import clear_output\n",
        "for i in range(10):\n",
        "    clear_output(wait=True)\n",
        "    print(\"Bacteria successfully installed!\")"
      ]
    },
    {
      "cell_type": "code",
      "source": [
        "import bacteria as bac\n",
        "import pandas as pd\n",
        "import matplotlib.pyplot as plt"
      ],
      "metadata": {
        "id": "-gedgsOXf1Mt"
      },
      "execution_count": null,
      "outputs": []
    },
    {
      "cell_type": "markdown",
      "source": [
        "Load your data if you need to concatenate the clists check the [Concatenate Tutorial](https://colab.research.google.com/github/tuliofalmeida/bacteria/blob/main/notebooks/Tutorial_Concatenate_Filters.ipynb). **You can either upload your data or download it from the notebook and run it locally.**"
      ],
      "metadata": {
        "id": "xf24_LuHupek"
      }
    },
    {
      "cell_type": "code",
      "source": [
        "df2d = pd.read_csv('YOU 2D DATA PATH')\n",
        "df3d = pd.read_csv('YOU 3D DATA PATH')\n",
        "\n",
        "# PRE AND POS MOMENTS IN MINUTES\n",
        "\n",
        "pre = 0000\n",
        "pos = 0000\n",
        "shift = 0000"
      ],
      "metadata": {
        "id": "eE8WJLo0lC9l"
      },
      "execution_count": null,
      "outputs": []
    },
    {
      "cell_type": "markdown",
      "source": [
        "## Experiment in time"
      ],
      "metadata": {
        "id": "Z36Q8-jqZNS8"
      }
    },
    {
      "cell_type": "markdown",
      "source": [
        "Calculating the instantaneous volume change (Growth Rate) and fluorescence.\n",
        "\n",
        "Here, the underline after the comma is used to ignore the second output of the function, which in this case is a dictionary with other dictionaries inside with the raw data."
      ],
      "metadata": {
        "id": "amM4Rc4pchTK"
      }
    },
    {
      "cell_type": "code",
      "source": [
        "gr_df,_ = bac.derivative(df3d,column='Volume')\n",
        "fluo_df,_ = bac.derivative(df3d,column='Fluor1 sum')"
      ],
      "metadata": {
        "id": "P5QUPQnulOz6"
      },
      "execution_count": null,
      "outputs": []
    },
    {
      "cell_type": "markdown",
      "source": [
        "Calculating the average of all cells for different columns from derivative and 3D data"
      ],
      "metadata": {
        "id": "NEr_mgUfcex8"
      }
    },
    {
      "cell_type": "code",
      "source": [
        "time_gr,mean_gr,ci_gr = bac.column_mean(gr_df,column='Derivative')\n",
        "time_fluo,mean_fluo,ci_fluo = bac.column_mean(fluo_df,column='Derivative')\n",
        "time_div,mean_div,ci_div = bac.column_mean(df3d,column='Long axis (L)')\n",
        "time_ratio,mean_ratio,ci_ratio = bac.column_mean(df3d,column='F/V')"
      ],
      "metadata": {
        "id": "m2GAbzSJ9U-n"
      },
      "execution_count": null,
      "outputs": []
    },
    {
      "cell_type": "markdown",
      "source": [
        "Rearranging 2D data based on division time to plot the data over time"
      ],
      "metadata": {
        "id": "8DK_RzHOc_M7"
      }
    },
    {
      "cell_type": "code",
      "source": [
        "df_2d_temp = pd.melt(df2d, id_vars=['Cell ID','Cell age','Area death','Time Division'], value_vars=['Vd-Vb']).sort_values(by=['Time Division'])"
      ],
      "metadata": {
        "id": "-ZNy5FGul4dA"
      },
      "execution_count": null,
      "outputs": []
    },
    {
      "cell_type": "code",
      "source": [
        "#@title Entire time plot (Here you must adjust the limits of the graphs (**commented code**))\n",
        "fig,ax = plt.subplots(3,2,figsize=(15,10))\n",
        "color = 'purple'\n",
        "bac.plot_derivative_mean(time_gr,mean_gr,ci_gr,column='Volume',derivative_column='Derivative',color = color,ax = ax[0][0])\n",
        "# ax[0][0].set_xlim(0,1000)\n",
        "# ax[0][0].set_ylim(-1,1)\n",
        "\n",
        "bac.plot_derivative_mean(time_fluo,mean_fluo,ci_fluo,column='Fluor1 sum',derivative_column='Derivative',color = color,ax = ax[0][1])\n",
        "# ax[0][1].set_xlim(0,1000)\n",
        "# ax[0][1].set_ylim(0,20000)\n",
        "\n",
        "bac.plot_column_mean(time_div,mean_div,ci_div,'Long axis (L)',color = color,ax = ax[1][1])\n",
        "# ax[1][1].set_xlim(0,1000)\n",
        "# ax[1][1].set_ylim(0,50)\n",
        "\n",
        "bac.plot_column_mean(time_ratio,mean_ratio,ci_ratio,'F/V',color = color,ax = ax[1][0])\n",
        "# ax[1][0].set_xlim(0,1000)\n",
        "# ax[1][0].set_ylim(100000,500000)\n",
        "\n",
        "ax[2][0].plot(df_2d_temp['Time Division'],df_2d_temp.value.rolling(30).mean(),color = color,)\n",
        "ax[2][0].plot(df_2d_temp['Time Division'],df_2d_temp.value,'.',color = color,alpha = .15)\n",
        "ax[2][0].set_title('Vd-Vb roll mean',fontsize = 17)\n",
        "ax[2][0].set_xlabel('Time at Division',fontsize = 15)\n",
        "ax[2][0].set_ylabel('Vd-Vb',fontsize = 15)\n",
        "# ax[2][0].set_xlim(0,1000)\n",
        "# ax[2][0].set_ylim(0,1000)\n",
        "\n",
        "ax[2][1].plot(df_2d_temp['Time Division'],df_2d_temp['Cell age'].rolling(30).mean(),color = color,)\n",
        "ax[2][1].plot(df_2d_temp['Time Division'],df_2d_temp['Cell age'],'.',color = color, alpha = .15)\n",
        "ax[2][1].set_title('Cell age roll mean',fontsize = 17)\n",
        "ax[2][1].set_xlabel('Time at Division',fontsize = 15)\n",
        "ax[2][1].set_ylabel('Division Time',fontsize = 15)\n",
        "# ax[2][1].set_xlim(0,1000)\n",
        "# ax[2][1].set_ylim(0,250)\n",
        "\n",
        "fig.suptitle('Shift Experiment in Time',fontsize = 19)\n",
        "plt.tight_layout()\n",
        "plt.show()\n",
        "\n",
        "fig.savefig('plots/experiment_time_1.png')"
      ],
      "metadata": {
        "id": "RgqG5MQGl-tC",
        "cellView": "form"
      },
      "execution_count": null,
      "outputs": []
    },
    {
      "cell_type": "code",
      "source": [
        "#@title Pre and pos shift plots (Here you must adjust the limits of the graphs (**commented code**) or filter the data based on time bac.cells_pre_shift( ) and bac.cells_pos_shift( ) )\n",
        "fig,ax = plt.subplots(6,2,figsize=(15,20))\n",
        "pre_color = 'k'\n",
        "pos_color = 'red'\n",
        "bac.plot_derivative_mean(time_gr,mean_gr,ci_gr,column='Volume',derivative_column='Derivative',color = pre_color,ax = ax[0][0])\n",
        "ax[0][0].set_title('Growth Rate Pre',fontsize = 17)\n",
        "# ax[0][0].set_xlim(0,pre)\n",
        "# ax[0][0].set_ylim(-1,1)\n",
        "\n",
        "bac.plot_derivative_mean(time_gr,mean_gr,ci_gr,column='Volume',derivative_column='Derivative',color = pos_color,ax = ax[0][1])\n",
        "ax[0][1].set_title('Growth Rate Pos',fontsize = 17)\n",
        "# ax[0][1].set_xlim(pos,:)\n",
        "# ax[0][1].set_ylim(-1,1)\n",
        "\n",
        "bac.plot_derivative_mean(time_fluo,mean_fluo,ci_fluo,column='Fluor1 sum',derivative_column='Derivative',color = pre_color,ax = ax[1][0])\n",
        "ax[1][0].set_title('Fluo Rate Pre',fontsize = 17)\n",
        "# ax[1][0].set_xlim(0,pre)\n",
        "# ax[1][0].set_ylim(-1,1)\n",
        "\n",
        "bac.plot_derivative_mean(time_fluo,mean_fluo,ci_fluo,column='Fluor1 sum',derivative_column='Derivative',color = pos_color,ax = ax[1][1])\n",
        "ax[1][1].set_title('Fluo Rate Pos',fontsize = 17)\n",
        "# ax[1][1].set_xlim(pos,:)\n",
        "# ax[1][1].set_ylim(-1,1)\n",
        "\n",
        "bac.plot_column_mean(time_div,mean_div,ci_div,'Long axis (L)',color = pre_color,ax = ax[2][0])\n",
        "ax[2][0].set_title('Long axis (L) Pre',fontsize = 17)\n",
        "# ax[2][0].set_xlim(0,pre)\n",
        "# ax[2][0].set_ylim(-1,1)\n",
        "\n",
        "bac.plot_column_mean(time_div,mean_div,ci_div,'Long axis (L)',color = pos_color,ax = ax[2][1])\n",
        "ax[2][1].set_title('Long axis (L) Pos',fontsize = 17)\n",
        "# ax[2][1].set_xlim(pos,:)\n",
        "# ax[2][1].set_ylim(-1,1)\n",
        "\n",
        "bac.plot_column_mean(time_ratio,mean_ratio,ci_ratio,'F/V',color = pre_color,ax = ax[3][0])\n",
        "ax[3][0].set_title('F/V Pre',fontsize = 17)\n",
        "# ax[3][0].set_xlim(0,pre)\n",
        "# ax[3][0].set_ylim(-1,1)\n",
        "\n",
        "bac.plot_column_mean(time_ratio,mean_ratio,ci_ratio,'F/V',color = pos_color,ax = ax[3][1])\n",
        "ax[3][1].set_title('F/V Pos',fontsize = 17)\n",
        "# ax[3][1].set_xlim(pos,:)\n",
        "# ax[3][1].set_ylim(-1,1)\n",
        "\n",
        "ax[4][0].plot(df_2d_temp['Time Division'],df_2d_temp.value.rolling(30).mean(),color = pre_color,)\n",
        "ax[4][0].plot(df_2d_temp['Time Division'],df_2d_temp.value,'.',color = pre_color,alpha =.15)\n",
        "ax[4][0].set_title('Vd-Vb roll mean Pre',fontsize = 17)\n",
        "ax[4][0].set_xlabel('Time at Division',fontsize = 15)\n",
        "ax[4][0].set_ylabel('Vd-Vb',fontsize = 15)\n",
        "# ax[4][0].set_xlim(0,pre)\n",
        "# ax[4][0].set_ylim(-1,1)\n",
        "\n",
        "ax[4][1].plot(df_2d_temp['Time Division'],df_2d_temp.value.rolling(30).mean(),color = pos_color)\n",
        "ax[4][1].plot(df_2d_temp['Time Division'],df_2d_temp.value,'.',color = pos_color,alpha =.15)\n",
        "ax[4][1].set_title('Vd-Vb roll mean Pos',fontsize = 17)\n",
        "ax[4][1].set_xlabel('Time at Division',fontsize = 15)\n",
        "ax[4][1].set_ylabel('Vd-Vb',fontsize = 15)\n",
        "# ax[4][1].set_xlim(pos,:)\n",
        "# ax[4][1].set_ylim(-1,1)\n",
        "\n",
        "ax[5][0].plot(df_2d_temp['Time Division'],df_2d_temp['Cell age'].rolling(30).mean(),color = pre_color)\n",
        "ax[5][0].plot(df_2d_temp['Time Division'],df_2d_temp['Cell age'],'.',color = pre_color, alpha=.15)\n",
        "ax[5][0].set_title('Cell age roll mean Pre',fontsize = 17)\n",
        "ax[5][0].set_xlabel('Time at Division',fontsize = 15)\n",
        "ax[5][0].set_ylabel('Division Time',fontsize = 15)\n",
        "# ax[0][0].set_xlim(0,pre)\n",
        "# ax[0][0].set_ylim(-1,1)\n",
        "\n",
        "ax[5][1].plot(df_2d_temp['Time Division'],df_2d_temp['Cell age'].rolling(30).mean(),color = pos_color)\n",
        "ax[5][1].plot(df_2d_temp['Time Division'],df_2d_temp['Cell age'],'.',color = pos_color, alpha=.15)\n",
        "ax[5][1].set_title('Cell age roll mean Pos',fontsize = 17)\n",
        "ax[5][1].set_xlabel('Time at Division',fontsize = 15)\n",
        "ax[5][1].set_ylabel('Division Time',fontsize = 15)\n",
        "# ax[5][1].set_xlim(pos,:)\n",
        "# ax[5][1].set_ylim(-1,1)\n",
        "\n",
        "fig.suptitle('Experiment Pre/Pos Shift',fontsize = 19)\n",
        "plt.tight_layout()\n",
        "plt.show()\n",
        "\n",
        "fig.savefig('plots/experiment_time_2.png')"
      ],
      "metadata": {
        "cellView": "form",
        "id": "hFoC9Gz2fMS7"
      },
      "execution_count": null,
      "outputs": []
    },
    {
      "cell_type": "code",
      "source": [
        "#@title Transiton plots (Here you must adjust the limits of the graphs (**commented code**) or filter the data based on time bac.cells_pre_shift( ) and bac.cells_pos_shift( ) )\n",
        "fig,ax = plt.subplots(3,2,figsize=(15,10))\n",
        "bac.plot_derivative_mean(time_gr,mean_gr,ci_gr,column='Volume',derivative_column='Derivative',color = 'green',ax = ax[0][0])\n",
        "ax[0][0].set_title('Growth Rate Transition',fontsize = 17)\n",
        "# ax[0][0].set_xlim(pre,pos)\n",
        "# ax[0][0].set_ylim(-1,1)\n",
        "\n",
        "bac.plot_derivative_mean(time_fluo,mean_fluo,ci_fluo,column='Fluor1 sum',derivative_column='Derivative',color = 'green',ax = ax[0][1])\n",
        "ax[0][1].set_title('Fluor1 sum Derivative Transition',fontsize = 17)\n",
        "# ax[0][1].set_xlim(pre,pos)\n",
        "# ax[0][1].set_ylim(-1,1)\n",
        "\n",
        "bac.plot_column_mean(time_div,mean_div,ci_div,'Long axis (L)',color = 'green',ax = ax[1][1])\n",
        "ax[1][1].set_title('Long axis (L) Mean Transition',fontsize = 17)\n",
        "# ax[1][1].set_xlim(pre,pos)\n",
        "# ax[1][1].set_ylim(-1,1)\n",
        "\n",
        "bac.plot_column_mean(time_ratio,mean_ratio,ci_ratio,'F/V',color = 'green',ax = ax[1][0])\n",
        "ax[1][0].set_title('F/V mean Transition',fontsize = 17)\n",
        "# ax[1][0].set_xlim(pre,pos)\n",
        "# ax[1][0].set_ylim(-1,1)\n",
        "\n",
        "ax[2][0].plot(df_2d_temp['Time Division'],df_2d_temp.value.rolling(30).mean(),'green')\n",
        "ax[2][0].plot(df_2d_temp['Time Division'],df_2d_temp.value,'.',color = 'green',alpha = .15)\n",
        "ax[2][0].set_title('Vd-Vb roll mean Transition',fontsize = 17)\n",
        "ax[2][0].set_xlabel('Time at Division',fontsize = 15)\n",
        "ax[2][0].set_ylabel('Vd-Vb',fontsize = 15)\n",
        "# ax[2][0].set_xlim(pre,pos)\n",
        "# ax[2][0].set_ylim(-1,1)\n",
        "\n",
        "ax[2][1].plot(df_2d_temp['Time Division'],df_2d_temp['Cell age'].rolling(30).mean(),'green')\n",
        "ax[2][1].plot(df_2d_temp['Time Division'],df_2d_temp['Cell age'],'.',color = 'green', alpha = .15)\n",
        "ax[2][1].set_title('Cell age roll mean Transition',fontsize = 17)\n",
        "ax[2][1].set_xlabel('Time at Division',fontsize = 15)\n",
        "ax[2][1].set_ylabel('Division Time',fontsize = 15)\n",
        "# ax[2][1].set_xlim(pre,pos)\n",
        "# ax[2][1].set_ylim(-1,1)\n",
        "\n",
        "fig.suptitle('Shift Experiment in Time',fontsize = 19)\n",
        "plt.tight_layout()\n",
        "plt.show()\n",
        "\n",
        "fig.savefig('plots/experiment_time_3.png')"
      ],
      "metadata": {
        "cellView": "form",
        "id": "_KAEdiS1fyb8"
      },
      "execution_count": null,
      "outputs": []
    },
    {
      "cell_type": "markdown",
      "source": [
        "## Cell Cycle Analysis"
      ],
      "metadata": {
        "id": "9DEnAbQmgHQ6"
      }
    },
    {
      "cell_type": "markdown",
      "source": [
        "Cell ID filter pre and pos shift "
      ],
      "metadata": {
        "id": "_AMuqY4qO0mD"
      }
    },
    {
      "cell_type": "code",
      "source": [
        "cells_pre = bac.cells_pre_shift(df3d,pre=pre)\n",
        "cells_pos = bac.cells_pos_shift(df3d,pos=pos)"
      ],
      "metadata": {
        "id": "-O8ILuC2Pkp6"
      },
      "execution_count": null,
      "outputs": []
    },
    {
      "cell_type": "markdown",
      "source": [
        "### Entire time plots"
      ],
      "metadata": {
        "id": "-OykxjPERDmC"
      }
    },
    {
      "cell_type": "markdown",
      "source": [
        "Volume derivative"
      ],
      "metadata": {
        "id": "HofNUN16jQ9N"
      }
    },
    {
      "cell_type": "code",
      "source": [
        "bins_fluo_vol_norm,ci_fluo_vol_norm = bac.derivative_binning(fluo_df,\n",
        "                                                             derivative_column='Derivative/V',\n",
        "                                                             sort_by='Volume',\n",
        "                                                             print_bins=True)"
      ],
      "metadata": {
        "id": "bCx0vP8tjLxC"
      },
      "execution_count": null,
      "outputs": []
    },
    {
      "cell_type": "code",
      "source": [
        "bins_fluo_vol,ci_fluo_vol = bac.derivative_binning(fluo_df,\n",
        "                                                   derivative_column='Derivative',\n",
        "                                                   sort_by='Volume',\n",
        "                                                   print_bins=False)"
      ],
      "metadata": {
        "id": "dKcuRMozjWJg"
      },
      "execution_count": null,
      "outputs": []
    },
    {
      "cell_type": "markdown",
      "source": [
        "Fluorescence derivative"
      ],
      "metadata": {
        "id": "1ldur9BhjkNw"
      }
    },
    {
      "cell_type": "code",
      "source": [
        "bins_fluo_cc_norm,ci_fluo_cc_norm = bac.derivative_binning(fluo_df,\n",
        "                                                           derivative_column='Derivative/V',\n",
        "                                                           sort_by='Cell Cycle',\n",
        "                                                           print_bins=False)"
      ],
      "metadata": {
        "id": "VlS5qcxhjSvA"
      },
      "execution_count": null,
      "outputs": []
    },
    {
      "cell_type": "code",
      "source": [
        "bins_fluo_cc,ci_fluo_cc = bac.derivative_binning(fluo_df,\n",
        "                                                 derivative_column='Derivative',\n",
        "                                                 sort_by='Cell Cycle',\n",
        "                                                 print_bins=False)"
      ],
      "metadata": {
        "id": "QRjxhTZOj3TE"
      },
      "execution_count": null,
      "outputs": []
    },
    {
      "cell_type": "markdown",
      "source": [
        "Fluo/Volume Ratio"
      ],
      "metadata": {
        "id": "Ch3sgve47mu9"
      }
    },
    {
      "cell_type": "code",
      "source": [
        "bins_ratio_vol, ci_ratio_vol = bac.bin_column(df3d,column = 'F/V',sort_by = 'Volume',print_bins=False)\n",
        "bins_ratio_cc, ci_ratio_cc = bac.bin_column(df3d,column = 'F/V',sort_by = 'Cell Cycle',print_bins=False)"
      ],
      "metadata": {
        "id": "4pXjos_j7mDa"
      },
      "execution_count": null,
      "outputs": []
    },
    {
      "cell_type": "code",
      "source": [
        "#@title Bin plots all time (Here you must adjust the limits of the graphs (**commented code**), to suppress some bin edit in the plot the X and Y ([:]) ) [Slicing Tutorial](https://jakevdp.github.io/PythonDataScienceHandbook/02.02-the-basics-of-numpy-arrays.html#Array-Slicing:-Accessing-Subarrays)\n",
        "fig,ax = plt.subplots(3,2,figsize=(15,15))\n",
        "bac.plot_bins(bins_fluo_vol_norm[:],ci_fluo_vol_norm[:],column = 'Fluor1 sum',derivative_column='Derivative/V',sort_by='Volume', cmap ='plasma',ax=ax[0][0])\n",
        "ax[0][0].set_title('dF/dt/V by volume', fontsize = 17)\n",
        "# ax[0][0].set_ylim(0,10000)\n",
        "\n",
        "bac.plot_bins(bins_fluo_cc_norm[:],ci_fluo_cc_norm[:],column = 'Fluor1 sum',derivative_column='Derivative/V',sort_by='Cell Cycle', cmap ='plasma',ax=ax[0][1])\n",
        "ax[0][1].set_title('dF/dt/V by cell cycle', fontsize = 17)\n",
        "# ax[0][1].set_ylim(0,10000)\n",
        "\n",
        "bac.plot_bins(bins_fluo_vol[:],ci_fluo_vol[:],column = 'Fluor1 sum',derivative_column='Derivative',sort_by='Volume', cmap ='viridis',ax=ax[1][0])\n",
        "ax[1][0].set_title('dF/dt by volume', fontsize = 17)\n",
        "# ax[1][0].set_ylim(0,10000)\n",
        "\n",
        "bac.plot_bins(bins_fluo_cc[:],ci_fluo_cc[:],column = 'Fluor1 sum',derivative_column='Derivative',sort_by='Cell Cycle', cmap ='viridis',ax=ax[1][1])\n",
        "ax[1][1].set_title('dF/dt by cell cycle', fontsize = 17)\n",
        "# ax[1][1].set_ylim(0,10000)\n",
        "\n",
        "bac.plot_bins(bins_ratio_vol[:],ci_ratio_vol[:], cmap ='cividis',ax=ax[2][0])\n",
        "ax[2][0].set_title('F/V by cell volume', fontsize = 17)\n",
        "ax[2][0].set_xlabel(r'Volume [$\\mu m^3$]')\n",
        "ax[2][0].set_ylabel('F/V')\n",
        "# ax[2][0].set_ylim(0,10000)\n",
        "\n",
        "bac.plot_bins(bins_ratio_cc[:],ci_ratio_cc[:], cmap ='cividis',ax=ax[2][1])\n",
        "ax[2][1].set_title('F/V by cell cycle', fontsize = 17)\n",
        "ax[2][1].set_xlabel('Cell Cycle')\n",
        "ax[2][1].set_ylabel('F/V')\n",
        "# ax[2][1].set_ylim(0,10000)\n",
        "\n",
        "plt.tight_layout()\n",
        "plt.show()\n",
        "\n",
        "fig.savefig('plots/cell_cycle_1.png')"
      ],
      "metadata": {
        "id": "Gcq0RBMMBWi6",
        "cellView": "form"
      },
      "execution_count": null,
      "outputs": []
    },
    {
      "cell_type": "markdown",
      "source": [
        "### Pre and pos plots"
      ],
      "metadata": {
        "id": "GY6CBRsIRI4b"
      }
    },
    {
      "cell_type": "code",
      "source": [
        "bins_fluo_vol_norm,ci_fluo_vol_norm = bac.derivative_binning(fluo_df[fluo_df['Cell ID'].isin(cells_pre)],\n",
        "                                                             derivative_column='Derivative/V',\n",
        "                                                             sort_by='Volume',\n",
        "                                                             print_bins=False)\n",
        "\n",
        "bins_fluo_vol,ci_fluo_vol = bac.derivative_binning(fluo_df[fluo_df['Cell ID'].isin(cells_pre)],\n",
        "                                                   derivative_column='Derivative',\n",
        "                                                   sort_by='Volume',\n",
        "                                                   print_bins=False)\n",
        "\n",
        "bins_fluo_cc_norm,ci_fluo_cc_norm = bac.derivative_binning(fluo_df[fluo_df['Cell ID'].isin(cells_pre)],\n",
        "                                                           derivative_column='Derivative/V',\n",
        "                                                           sort_by='Cell Cycle',\n",
        "                                                           print_bins=False)\n",
        "\n",
        "bins_fluo_cc,ci_fluo_cc = bac.derivative_binning(fluo_df[fluo_df['Cell ID'].isin(cells_pre)],\n",
        "                                                 derivative_column='Derivative',\n",
        "                                                 sort_by='Cell Cycle',\n",
        "                                                 print_bins=False)\n",
        "\n",
        "bins_ratio_vol, ci_ratio_vol = bac.bin_column(df3d[df3d['Cell ID'].isin(cells_pre)],column = 'F/V',sort_by = 'Volume',print_bins=False)\n",
        "bins_ratio_cc, ci_ratio_cc = bac.bin_column(df3d[df3d['Cell ID'].isin(cells_pre)],column = 'F/V',sort_by = 'Cell Cycle',print_bins=False)"
      ],
      "metadata": {
        "id": "n5pkxDEORNIs"
      },
      "execution_count": null,
      "outputs": []
    },
    {
      "cell_type": "code",
      "source": [
        "#@title Bin plots pre shift (Here you must adjust the limits of the graphs (**commented code**), to suppress some bin edit in the plot the X and Y ([:]) ) [Slicing Tutorial](https://jakevdp.github.io/PythonDataScienceHandbook/02.02-the-basics-of-numpy-arrays.html#Array-Slicing:-Accessing-Subarrays)\n",
        "fig,ax = plt.subplots(3,2,figsize=(15,15))\n",
        "bac.plot_bins(bins_fluo_vol_norm[:],ci_fluo_vol_norm[:],column = 'Fluor1 sum',derivative_column='Derivative/V',sort_by='Volume', cmap ='winter',ax=ax[0][0])\n",
        "ax[0][0].set_title('dF/dt/V by volume', fontsize = 17)\n",
        "# ax[0][0].set_ylim(1000,3000)\n",
        "\n",
        "bac.plot_bins(bins_fluo_cc_norm[:],ci_fluo_cc_norm[:],column = 'Fluor1 sum',derivative_column='Derivative/V',sort_by='Cell Cycle', cmap ='winter',ax=ax[0][1])\n",
        "ax[0][1].set_title('dF/dt/V by cell cycle', fontsize = 17)\n",
        "# ax[0][1].set_ylim(1500,2500)\n",
        "\n",
        "bac.plot_bins(bins_fluo_vol[:],ci_fluo_vol[:],column = 'Fluor1 sum',derivative_column='Derivative',sort_by='Volume', cmap ='winter',ax=ax[1][0])\n",
        "ax[1][0].set_title('dF/dt by volume', fontsize = 17)\n",
        "# ax[1][0].set_ylim(1000,10000)\n",
        "\n",
        "bac.plot_bins(bins_fluo_cc[:],ci_fluo_cc[:],column = 'Fluor1 sum',derivative_column='Derivative',sort_by='Cell Cycle', cmap ='winter',ax=ax[1][1])\n",
        "ax[1][1].set_title('dF/dt by cell cycle', fontsize = 17)\n",
        "# ax[1][1].set_ylim(1500,4500)\n",
        "\n",
        "bac.plot_bins(bins_ratio_vol[:],ci_ratio_vol[:], cmap ='winter',ax=ax[2][0])\n",
        "ax[2][0].set_title('F/V by cell volume', fontsize = 17)\n",
        "ax[2][0].set_xlabel(r'Volume [$\\mu m^3$]')\n",
        "ax[2][0].set_ylabel('F/V')\n",
        "# ax[2][0].set_ylim(180000,270000)\n",
        "\n",
        "bac.plot_bins(bins_ratio_cc[:],ci_ratio_cc[:], cmap ='winter',ax=ax[2][1])\n",
        "ax[2][1].set_title('F/V by cell cycle', fontsize = 17)\n",
        "ax[2][1].set_xlabel('Cell Cycle')\n",
        "ax[2][1].set_ylabel('F/V')\n",
        "# ax[2][1].set_ylim(240000,270000)\n",
        "\n",
        "plt.tight_layout()\n",
        "plt.show()\n",
        "\n",
        "fig.savefig('plots/cell_cycle_2.png')"
      ],
      "metadata": {
        "id": "L4eQfDs2RoID",
        "cellView": "form"
      },
      "execution_count": null,
      "outputs": []
    },
    {
      "cell_type": "code",
      "source": [
        "bins_fluo_vol_norm,ci_fluo_vol_norm = bac.derivative_binning(fluo_df[fluo_df['Cell ID'].isin(cells_pos)],\n",
        "                                                             derivative_column='Derivative/V',\n",
        "                                                             sort_by='Volume',\n",
        "                                                             print_bins=False)\n",
        "\n",
        "bins_fluo_vol,ci_fluo_vol = bac.derivative_binning(fluo_df[fluo_df['Cell ID'].isin(cells_pos)],\n",
        "                                                   derivative_column='Derivative',\n",
        "                                                   sort_by='Volume',\n",
        "                                                   print_bins=False)\n",
        "\n",
        "bins_fluo_cc_norm,ci_fluo_cc_norm = bac.derivative_binning(fluo_df[fluo_df['Cell ID'].isin(cells_pos)],\n",
        "                                                           derivative_column='Derivative/V',\n",
        "                                                           sort_by='Cell Cycle',\n",
        "                                                           print_bins=False)\n",
        "\n",
        "bins_fluo_cc,ci_fluo_cc = bac.derivative_binning(fluo_df[fluo_df['Cell ID'].isin(cells_pos)],\n",
        "                                                 derivative_column='Derivative',\n",
        "                                                 sort_by='Cell Cycle',\n",
        "                                                 print_bins=False)\n",
        "\n",
        "bins_ratio_vol, ci_ratio_vol = bac.bin_column(df3d[df3d['Cell ID'].isin(cells_pos)],column = 'F/V',sort_by = 'Volume',print_bins=False)\n",
        "bins_ratio_cc, ci_ratio_cc = bac.bin_column(df3d[df3d['Cell ID'].isin(cells_pos)],column = 'F/V',sort_by = 'Cell Cycle',print_bins=False)"
      ],
      "metadata": {
        "id": "l4kDlPllSylu"
      },
      "execution_count": null,
      "outputs": []
    },
    {
      "cell_type": "code",
      "source": [
        "#@title Bin plots pos shift (Here you must adjust the limits of the graphs (**commented code**), to suppress some bin edit in the plot the X and Y ([:]) ) [Slicing Tutorial](https://jakevdp.github.io/PythonDataScienceHandbook/02.02-the-basics-of-numpy-arrays.html#Array-Slicing:-Accessing-Subarrays)\n",
        "fig,ax = plt.subplots(3,2,figsize=(15,15))\n",
        "bac.plot_bins(bins_fluo_vol_norm[:],ci_fluo_vol_norm[:],column = 'Fluor1 sum',derivative_column='Derivative/V',sort_by='Volume', cmap ='autumn',ax=ax[0][0])\n",
        "ax[0][0].set_title('dF/dt/V by volume', fontsize = 17)\n",
        "# ax[0][0].set_ylim(-1500,7500)\n",
        "\n",
        "bac.plot_bins(bins_fluo_cc_norm[:],ci_fluo_cc_norm[:],column = 'Fluor1 sum',derivative_column='Derivative/V',sort_by='Cell Cycle', cmap ='autumn',ax=ax[0][1])\n",
        "ax[0][1].set_title('dF/dt/V by cell cycle', fontsize = 17)\n",
        "# ax[0][1].set_ylim(3000,6000)\n",
        "\n",
        "bac.plot_bins(bins_fluo_vol[:],ci_fluo_vol[:],column = 'Fluor1 sum',derivative_column='Derivative',sort_by='Volume', cmap ='autumn',ax=ax[1][0])\n",
        "ax[1][0].set_title('dF/dt by volume', fontsize = 17)\n",
        "# ax[1][0].set_ylim(-5500,17500)\n",
        "\n",
        "bac.plot_bins(bins_fluo_cc[:],ci_fluo_cc[:],column = 'Fluor1 sum',derivative_column='Derivative',sort_by='Cell Cycle', cmap ='autumn',ax=ax[1][1])\n",
        "ax[1][1].set_title('dF/dt by cell cycle', fontsize = 17)\n",
        "# ax[1][1].set_ylim(8500,12500)\n",
        "\n",
        "bac.plot_bins(bins_ratio_vol[:],ci_ratio_vol[:], cmap ='autumn',ax=ax[2][0])\n",
        "ax[2][0].set_title('F/V by cell volume', fontsize = 17)\n",
        "ax[2][0].set_xlabel(r'Volume [$\\mu m^3$]')\n",
        "ax[2][0].set_ylabel('F/V')\n",
        "# ax[2][0].set_ylim(210000,400000)\n",
        "\n",
        "bac.plot_bins(bins_ratio_cc[:],ci_ratio_cc[:], cmap ='autumn',ax=ax[2][1])\n",
        "ax[2][1].set_title('F/V by cell cycle', fontsize = 17)\n",
        "ax[2][1].set_xlabel('Cell Cycle')\n",
        "ax[2][1].set_ylabel('F/V')\n",
        "# ax[2][1].set_ylim(300000,350000)\n",
        "\n",
        "plt.tight_layout()\n",
        "plt.show()\n",
        "\n",
        "fig.savefig('plots/cell_cycle_3.png')"
      ],
      "metadata": {
        "id": "9LlzGIqYSwq_",
        "cellView": "form"
      },
      "execution_count": null,
      "outputs": []
    },
    {
      "cell_type": "markdown",
      "source": [
        "## Lineage Analysis"
      ],
      "metadata": {
        "id": "0OQOGgZAiBZp"
      }
    },
    {
      "cell_type": "markdown",
      "source": [
        "Calculate all lineages in the dataset"
      ],
      "metadata": {
        "id": "oIMZubGn6UaC"
      }
    },
    {
      "cell_type": "code",
      "source": [
        "reverse_lineages, large_lineages, large_nodes , all_nodes = bac.lineages(df2d)"
      ],
      "metadata": {
        "id": "iwsgyyjjC2B4"
      },
      "execution_count": null,
      "outputs": []
    },
    {
      "cell_type": "markdown",
      "source": [
        "Extract the longer lineages in dict and array"
      ],
      "metadata": {
        "id": "2O_G-G726c5e"
      }
    },
    {
      "cell_type": "code",
      "source": [
        "root_dict,lineage_array,len_dict = bac.longer_lineages(df3d,reverse_lineages)"
      ],
      "metadata": {
        "id": "a2_qFq0i6cWd"
      },
      "execution_count": null,
      "outputs": []
    },
    {
      "cell_type": "markdown",
      "source": [
        "Filter the lineages based on correlation. This func will remove from the array lineages that are two similiar based on correlation"
      ],
      "metadata": {
        "id": "UIhkkBZ56hvU"
      }
    },
    {
      "cell_type": "code",
      "source": [
        "filtered_lineage = bac.lineage_corr_filter(df3d,reverse_lineages)"
      ],
      "metadata": {
        "id": "5l5hd6jU6hLl"
      },
      "execution_count": null,
      "outputs": []
    },
    {
      "cell_type": "markdown",
      "source": [
        "Extract lineages start pre and pos the shift **Determine the shift moment (if necessary)**"
      ],
      "metadata": {
        "id": "q0CJ8D9Y6sAg"
      }
    },
    {
      "cell_type": "code",
      "source": [
        "lineage_pre = bac.lineages_pre_shift(df3d,reverse_lineages, shift = shift)\n",
        "lineage_pos = bac.lineages_pos_shift(df3d,reverse_lineages, shift = shift)"
      ],
      "metadata": {
        "id": "0praIlhO6Dyj"
      },
      "execution_count": null,
      "outputs": []
    },
    {
      "cell_type": "code",
      "source": [
        "#@title Plot one cell mother lineage and the correlation between the nodes (functions to check the similarity of the lineages - you must choose a lineage)\n",
        "bac.plot_corr_lineage(df3d,reverse_lineages,filtered_lineage[5][0]) # change the first square bracket"
      ],
      "metadata": {
        "id": "NHwbDGfsDAsb",
        "cellView": "form"
      },
      "execution_count": null,
      "outputs": []
    },
    {
      "cell_type": "markdown",
      "source": [
        "### ***The order is a paramater that will influence the amount of noise accepet to estimate the smoothed derivative***"
      ],
      "metadata": {
        "id": "814oFg9L_ll1"
      }
    },
    {
      "cell_type": "code",
      "source": [
        "#@title Fluorescence concentration pre shift - **you must choose a lineage from filtered_lineage array**\n",
        "fig,ax = plt.subplots(2,1, figsize = (12,10))\n",
        "\n",
        "order = 5\n",
        "\n",
        "df_lineage,peaks,order_dict = bac.lineage_derivative(df3d,filtered_lineage[9],order=order,column='Fluor1 sum')\n",
        "bac.plot_lineage_ratio(df_lineage,x_axis='Smoothed Volume',ax=ax[0])\n",
        "\n",
        "df_lineage,peaks,order_dict = bac.lineage_derivative(df3d,filtered_lineage[9],order=order,column='Fluor1 sum')\n",
        "bac.plot_lineage_ratio(df_lineage,x_axis='Time (fps)',ax=ax[1])\n",
        "\n",
        "plt.tight_layout()\n",
        "plt.show()\n",
        "\n",
        "fig.savefig('plots/lineage_2.png')"
      ],
      "metadata": {
        "cellView": "form",
        "id": "GO81L5Kz97Dp"
      },
      "execution_count": null,
      "outputs": []
    },
    {
      "cell_type": "code",
      "source": [
        "#@title Fluorescence concentration pos shift - **you must choose a lineage from filtered_lineage array**\n",
        "fig,ax = plt.subplots(2,1, figsize = (12,10))\n",
        "\n",
        "order = 5\n",
        "\n",
        "df_lineage,peaks,order_dict = bac.lineage_derivative(df3d,filtered_lineage[2],order=order,column='Fluor1 sum')\n",
        "bac.plot_lineage_ratio(df_lineage,x_axis='Smoothed Volume',ax=ax[0])\n",
        "\n",
        "df_lineage,peaks,order_dict = bac.lineage_derivative(df3d,filtered_lineage[2],order=order,column='Fluor1 sum')\n",
        "bac.plot_lineage_ratio(df_lineage,x_axis='Time (fps)',ax=ax[1])\n",
        "\n",
        "plt.tight_layout()\n",
        "plt.show()\n",
        "\n",
        "fig.savefig('plots/lineage_3.png')"
      ],
      "metadata": {
        "cellView": "form",
        "id": "jW56UnMx-vxf"
      },
      "execution_count": null,
      "outputs": []
    },
    {
      "cell_type": "code",
      "source": [
        "#@title Fluorescence rate pre shift - **you must choose a lineage from filtered_lineage array**\n",
        "\n",
        "fig,ax = plt.subplots(2,1, figsize = (12,10))\n",
        "\n",
        "order = 5\n",
        "\n",
        "df_lineage,peaks,order_dict = bac.lineage_derivative(df3d,filtered_lineage[9],order=order,column='Fluor1 sum')\n",
        "bac.plot_lineage_derivative(df_lineage,peaks,x_axis='Smoothed Volume',ax=ax[0])\n",
        "\n",
        "df_lineage,peaks,order_dict = bac.lineage_derivative(df3d,filtered_lineage[9],order=order,column='Fluor1 sum')\n",
        "bac.plot_lineage_derivative(df_lineage,peaks,x_axis='Time (fps)',ax=ax[1])\n",
        "\n",
        "plt.tight_layout()\n",
        "plt.show()\n",
        "\n",
        "fig.savefig('plots/lineage_4.png')"
      ],
      "metadata": {
        "cellView": "form",
        "id": "DLazdW7d-4-t"
      },
      "execution_count": null,
      "outputs": []
    },
    {
      "cell_type": "code",
      "source": [
        "#@title Fluorescence rate pos shift - **you must choose a lineage from filtered_lineage array**\n",
        "\n",
        "fig,ax = plt.subplots(2,1, figsize = (12,10))\n",
        "\n",
        "order = 5\n",
        "\n",
        "df_lineage,peaks,order_dict = bac.lineage_derivative(df3d,filtered_lineage[2],order=order,column='Fluor1 sum')\n",
        "bac.plot_lineage_derivative(df_lineage,peaks,x_axis='Smoothed Volume',ax=ax[0])\n",
        "\n",
        "df_lineage,peaks,order_dict = bac.lineage_derivative(df3d,filtered_lineage[2],order=order,column='Fluor1 sum')\n",
        "bac.plot_lineage_derivative(df_lineage,peaks,x_axis='Time (fps)',ax=ax[1])\n",
        "\n",
        "plt.tight_layout()\n",
        "plt.show()\n",
        "\n",
        "fig.savefig('plots/lineage_5.png')"
      ],
      "metadata": {
        "cellView": "form",
        "id": "nFDNOjcP96-y"
      },
      "execution_count": null,
      "outputs": []
    },
    {
      "cell_type": "markdown",
      "source": [
        "## Minima Analysis"
      ],
      "metadata": {
        "id": "4K9eAHXQsX5A"
      }
    },
    {
      "cell_type": "code",
      "source": [
        "diff_dict = bac.diff_minima(df3d,df2d,pre = pre,pos = pos,order = 3, adjust = False)"
      ],
      "metadata": {
        "id": "6cMcGXSVQ_xi"
      },
      "execution_count": null,
      "outputs": []
    },
    {
      "cell_type": "code",
      "source": [
        "#@title Plot Minima Volume by Volume at birth - if there is no pre and pos vc you should change the code (see the comented code)\n",
        "fig,ax = plt.subplots(1,3,figsize=(17,5))\n",
        "\n",
        "# To plot all the time, pre and post\n",
        "\n",
        "bac.plot_distance_minima(diff_dict,'all',color='purple',ax=ax[0])\n",
        "ax[0].set_ylim(0,5)\n",
        "ax[0].set_xlim(0,5)\n",
        "ax[0].legend(loc='upper right')\n",
        "bac.plot_distance_minima(diff_dict,'pre',color = 'k',ax=ax[1])\n",
        "ax[1].set_ylabel('')\n",
        "ax[1].set_ylim(0,5)\n",
        "ax[1].set_xlim(0,5)\n",
        "ax[1].legend(loc='upper right')\n",
        "bac.plot_distance_minima(diff_dict,'pos',color = 'red',ax=ax[2])\n",
        "ax[2].set_ylabel('')\n",
        "ax[2].set_xlim(0,5)\n",
        "ax[2].set_ylim(0,5)\n",
        "ax[2].legend(loc='upper right')\n",
        "\n",
        "plt.show()\n",
        "\n",
        "fig,ax = plt.subplots(1,3,figsize=(17,5))\n",
        "\n",
        "# To plot all the time\n",
        "\n",
        "# fig,ax = plt.subplots(1,1,figsize=(6,5))\n",
        "\n",
        "# bac.plot_distance_minima(diff_dict,'all',color='purple',ax=ax)\n",
        "# ax.set_ylim(0,5)\n",
        "# ax.set_xlim(0,5)\n",
        "# ax.legend(loc='upper right')\n",
        "\n",
        "# plt.show()\n",
        "\n",
        "fig.savefig('plots/minima_1.png')"
      ],
      "metadata": {
        "id": "s4COK9S15Cjd",
        "cellView": "form"
      },
      "execution_count": null,
      "outputs": []
    },
    {
      "cell_type": "code",
      "source": [
        "#@title Plot Daughther Minima Volume - Mother Minima Volume\n",
        "bac.plot_diff_minima(diff_dict,color='purple')"
      ],
      "metadata": {
        "id": "NK7Gd90m9gAr",
        "cellView": "form"
      },
      "execution_count": null,
      "outputs": []
    },
    {
      "cell_type": "code",
      "source": [
        "#@title Plot minima lineage by volume (order = 3) - if there is no pre and pos vc you should change the code (see the comented code)\n",
        "fig,ax = plt.subplots(2,2,figsize=(15,10))\n",
        "\n",
        "# To plot all the time, pre and post\n",
        "\n",
        "bac.plot_distance_minima_lineage(df3d,df2d,filtered_lineage,derivative_column = 'Derivative/V',order=3,ax=ax[0][0])\n",
        "ax[0][0].set_title('Lineages corr filter - {} lineages'.format(len(filtered_lineage)),fontsize = 17)\n",
        "bac.plot_distance_minima_lineage(df3d,df2d,lineage_array,derivative_column = 'Derivative/V',order=3,ax=ax[0][1])\n",
        "ax[0][1].set_title('Longer lineages - {} lineages'.format(len(lineage_array)),fontsize = 17)\n",
        "bac.plot_distance_minima_lineage(df3d,df2d,lineage_pre,derivative_column = 'Derivative/V',order=3,ax=ax[1][0])\n",
        "ax[1][0].set_title('Lineages pre shift - {} lineages'.format(len(lineage_pre)),fontsize = 17)\n",
        "bac.plot_distance_minima_lineage(df3d,df2d,lineage_pos,derivative_column = 'Derivative/V',order=3,ax=ax[1][1])\n",
        "ax[1][1].set_title('Lineages pos shift - {} lineages'.format(len(lineage_pos)),fontsize = 17)\n",
        "\n",
        "plt.tight_layout()\n",
        "plt.show()\n",
        "\n",
        "# To plot all the time\n",
        "\n",
        "# fig,ax = plt.subplots(1,2,figsize=(15,5))\n",
        "\n",
        "# bac.plot_distance_minima_lineage(df3d,df2d,filtered_lineage,derivative_column = 'Derivative/V',order=3,ax=ax[0][0])\n",
        "# ax[0][0].set_title('Lineages corr filter - {} lineages'.format(len(filtered_lineage)),fontsize = 17)\n",
        "# bac.plot_distance_minima_lineage(df3d,df2d,lineage_array,derivative_column = 'Derivative/V',order=3,ax=ax[0][1])\n",
        "# ax[0][1].set_title('Longer lineages - {} lineages'.format(len(lineage_array)),fontsize = 17)\n",
        "\n",
        "# plt.tight_layout()\n",
        "# plt.show()\n",
        "\n",
        "fig.savefig('plots/minima_3.png')"
      ],
      "metadata": {
        "cellView": "form",
        "id": "UtHzfgi14sNI"
      },
      "execution_count": null,
      "outputs": []
    }
  ]
}